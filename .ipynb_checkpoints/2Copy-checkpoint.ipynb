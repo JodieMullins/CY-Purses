{
 "cells": [
  {
   "cell_type": "code",
   "execution_count": 1,
   "id": "8faa6d76",
   "metadata": {},
   "outputs": [],
   "source": [
    "import sqlite3\n",
    "import pandas as pd\n",
    "import matplotlib as mpl\n",
    "import csv"
   ]
  },
  {
   "cell_type": "code",
   "execution_count": 2,
   "id": "21a07454",
   "metadata": {},
   "outputs": [],
   "source": [
    "# establish database connection\n",
    "conn = sqlite3.connect('purses.db')\n",
    "\n",
    "# create cursor to execute sql\n",
    "click = conn.cursor()"
   ]
  },
  {
   "cell_type": "markdown",
   "id": "447992ff",
   "metadata": {},
   "source": [
    "# Establish Customer Table\n"
   ]
  },
  {
   "cell_type": "code",
   "execution_count": 3,
   "id": "b1623243",
   "metadata": {},
   "outputs": [],
   "source": [
    "# delete table if already present / establish fresh, clean start to file when working in Kernal > 'Restart & Run All' order\n",
    "click.execute('''DROP TABLE IF EXISTS customer''')\n",
    "\n",
    "# create customer table\n",
    "click.execute('''CREATE TABLE customer (\n",
    "    customer_id INTEGER PRIMARY KEY,\n",
    "    first VARCHAR(25) NOT NULL,\n",
    "    last VARCHAR(25) NOT NULL,\n",
    "    email VARCHAR(75) NOT NULL,\n",
    "    street VARCHAR(25) NOT NULL,\n",
    "    city VARCHAR(50) NOT NULL,\n",
    "    state VARCHAR(15) NOT NULL,\n",
    "    zip_code INTEGER NOT NULL,\n",
    "    birthdate DATE NOT NULL,\n",
    "    payment REAL NOT NULL\n",
    ")''')\n",
    "\n",
    "# I know I want to access the csv file and hold that value here in python\n",
    "# customer_sheet = open('customer.csv')\n",
    "\n",
    "# I also know python has to read the file that I open\n",
    "# customer_contents = csv.reader(customer_sheet)\n",
    "\n",
    "\n",
    "\n",
    "# A 'with-block' means the file automatically closes\n",
    "with open('customer.csv', 'r') as f:\n",
    "    # customer_sheet will hold the value of the csv being parsed\n",
    "    # reader throws an error\n",
    "    # Dictreader provides a fieldname parameter I can iterate over\n",
    "    customer_sheet = csv.DictReader(f)\n",
    "    \n",
    "    # list comprehension time! \n",
    "    \n",
    "    # to iterate over my csv and store each row and data point respectively\n",
    "    # by corresponding header fields\n",
    "    data_customer = [(i['customer_id'], i['first'], i['last'], i['email'], i['street'], i['city'], i['state'], i['zip_code'], i['birthdate'], i['payment']) for i in customer_sheet]\n",
    "\n",
    "\n",
    "    "
   ]
  },
  {
   "cell_type": "markdown",
   "id": "8f7f7e0c",
   "metadata": {},
   "source": [
    "# Insert Data for Customer Table"
   ]
  },
  {
   "cell_type": "code",
   "execution_count": 4,
   "id": "23f9bd02",
   "metadata": {},
   "outputs": [],
   "source": [
    "# as for the database\n",
    "# INSERT INTO customer table the column names and corresponding values per column\n",
    "customer_insertion = \"INSERT INTO customer (customer_id, first, last, email, street, city, state, zip_code, birthdate, payment) VALUES (?, ?, ?, ?, ?, ?, ?, ?, ?, ?)\"\n"
   ]
  },
  {
   "cell_type": "code",
   "execution_count": 5,
   "id": "e02dd90f",
   "metadata": {},
   "outputs": [],
   "source": [
    "# for sql to insert all data points parsed from the csv\n",
    "click.executemany(customer_insertion, data_customer)\n",
    "\n",
    "conn.commit() #necessary to save changes to the customer table"
   ]
  },
  {
   "cell_type": "markdown",
   "id": "99b697ec",
   "metadata": {},
   "source": [
    "# Establish Delivery Table with Data"
   ]
  },
  {
   "cell_type": "code",
   "execution_count": 6,
   "id": "a780474d",
   "metadata": {},
   "outputs": [],
   "source": [
    "# delete table if already present\n",
    "click.execute('''DROP TABLE IF EXISTS delivery''')\n",
    "\n",
    "# create customer table\n",
    "click.execute('''CREATE TABLE delivery (\n",
    "    package TEXT PRIMARY KEY,\n",
    "    customer_id INTEGER,\n",
    "    ordered TIMESTAMP,\n",
    "    delivered TIMESTAMP,\n",
    "    payment VARCHAR(25),\n",
    "    sold REAL,\n",
    "    first TEXT NOT NULL,\n",
    "    last TEXT NOT NULL,\n",
    "    street VARCHAR(75) NOT NULL,\n",
    "    city TEXT,\n",
    "    state TEXT, \n",
    "    zip_code INTEGER,\n",
    "    purse INTEGER\n",
    ")''')\n",
    "\n",
    "# Automatically closing the file means I save a line of code later on\n",
    "with open('delivery.csv', 'r') as file:\n",
    "    delivery_sheet = csv.DictReader(file)\n",
    "    data_delivery = [(i['package'], i['customer_id'], i['ordered'], i['delivered'], i['payment'], i['sold'], i['first'], i['last'], i['street'], i['city'], i['state'], i['zip_code'], i['purse']) for i in delivery_sheet]\n",
    "\n",
    "\n",
    "# feeding the values python just read, held into data_delivery \n",
    "delivery_insertion = \"INSERT INTO delivery (package, customer_id, ordered, delivered, payment, sold, first, last, street, city, state, zip_code, purse) VALUES (?, ?, ?, ?, ?, ?, ?, ?, ?, ?, ?, ?, ?)\"\n",
    "\n",
    "# for sql to execute the statement to insert all data points parsed from the csv\n",
    "click.executemany(delivery_insertion, data_delivery)\n",
    "\n",
    "conn.commit() #necessary to save changes within the database to the delivery table"
   ]
  },
  {
   "cell_type": "markdown",
   "id": "e053e500",
   "metadata": {},
   "source": [
    "# About the Data\n",
    "\n",
    "Some fun nuance exists and assumptions are to be made. \n",
    "\n",
    "**1. Any and all items priced below  250.00 must be assumed to be purse hardware.** \n",
    "    \n",
    "    - Only if the item sold for  250.00 or more is the item definitively a purse because it is impossible to \n",
    "    buy a customizable purse for less than the standard box price of 250.00. \n",
    "    - Prices include taxes and shipping respectively\n",
    "\n",
    "\n",
    "**2. We can assume the possibilty exists within the data for the customer address fields to not be the same as the delivery address fields.**\n",
    "    \n",
    "    - Two assumptions available from this include 1) gifts and 2) fraud.\n",
    "        - Likewise, may not be assumed that 'delivery customer first' will always match 'customer first'.\n",
    "\n",
    "\n",
    "**3. The 'purse' column contains only unique values; the assumption exists that each order is an individual, one-of-a-kind shipment that cannot be reproduced.** \n",
    "\n",
    "    - Took the liberty of nixing any and all possibility of Null / NaN values from dataset.... debating this idea now.\n",
    "    \n"
   ]
  },
  {
   "cell_type": "markdown",
   "id": "b26cb94c",
   "metadata": {},
   "source": [
    "# Time to Query\n",
    "\n",
    "This is where I get to know my customers a little bit. As a small business, I personally discuss each order with each customer payment, and it's important I'm able to ask questions to make decisions. \n",
    "\n",
    "I must know that all my data has been sent to my database, though!\n",
    "\n"
   ]
  },
  {
   "cell_type": "code",
   "execution_count": 7,
   "id": "6bcf1e8b",
   "metadata": {},
   "outputs": [
    {
     "name": "stdout",
     "output_type": "stream",
     "text": [
      "(100,)\n"
     ]
    }
   ],
   "source": [
    "# I need a query to ask how many records exist in my customer table\n",
    "customer_cells = ('''SELECT COUNT(*) FROM customer''')\n",
    "\n",
    "# a variable to hold the query execution\n",
    "customer_rows = click.execute(customer_cells).fetchall()\n",
    "\n",
    "for c in customer_rows:\n",
    "    print(c)"
   ]
  },
  {
   "cell_type": "code",
   "execution_count": 8,
   "id": "a2a3fd19",
   "metadata": {},
   "outputs": [
    {
     "name": "stdout",
     "output_type": "stream",
     "text": [
      "100\n"
     ]
    }
   ],
   "source": [
    "# I want a better view than that. Let's clean that up!\n",
    "\n",
    "# Let's use some string formatting again\n",
    "fmt = \"{0}\"\n",
    "for cr in customer_rows:\n",
    "    cr = int(fmt.format(*cr)) #integer casting for easy adding of the variable elsewhere\n",
    "    print(cr)\n",
    "    "
   ]
  },
  {
   "cell_type": "markdown",
   "id": "06edd350",
   "metadata": {},
   "source": [
    "So I know all 100 rows of customer data made it to my database. Let me just double-check my delivery sheet as well by adding my delivery sheet count. I know the database is perfect if it has exactly 200 rows available. "
   ]
  },
  {
   "cell_type": "code",
   "execution_count": 9,
   "id": "5ff947bb",
   "metadata": {},
   "outputs": [
    {
     "name": "stdout",
     "output_type": "stream",
     "text": [
      "200\n"
     ]
    }
   ],
   "source": [
    "for d in click.execute('''SELECT COUNT(*) FROM delivery''').fetchall():\n",
    "    delivery_cells = int(fmt.format(*d)) # integer casting for easy adding in the next line\n",
    "    print(delivery_cells+cr)"
   ]
  },
  {
   "cell_type": "markdown",
   "id": "8f829559",
   "metadata": {},
   "source": [
    "Perfect! So I know that all 200 cells of data points from each of my csv files have successfully transferred into my database, with 100 records per table. \n",
    "\n",
    "\n",
    "For my first order of business, I want to send a personalized follow-up gift thanking each customer for their purchase. I decide my preferred method of going about this task is to send a birthday gift to everybody.  "
   ]
  },
  {
   "cell_type": "code",
   "execution_count": 11,
   "id": "82fe5cb0",
   "metadata": {
    "scrolled": true
   },
   "outputs": [
    {
     "name": "stdout",
     "output_type": "stream",
     "text": [
      "Penni,  1930-01-03\n",
      "Raymund,  1930-10-02\n",
      "Adelle,  1932-01-24\n",
      "Hugues,  1933-09-09\n",
      "Chevy,  1935-01-28\n",
      "Umberto,  1935-04-10\n",
      "Hana,  1935-11-19\n",
      "Alisander,  1936-09-18\n",
      "Harbert,  1937-08-21\n",
      "Karissa,  1938-10-04\n",
      "Pierson,  1939-12-20\n",
      "Clayton,  1940-01-26\n",
      "Doy,  1940-05-18\n",
      "Claretta,  1941-02-22\n",
      "Licha,  1941-05-28\n",
      "Tersina,  1941-10-27\n",
      "Rustin,  1942-06-18\n",
      "Harriott,  1943-03-31\n",
      "Gaile,  1944-07-12\n",
      "Fowler,  1945-01-31\n",
      "Ginger,  1946-08-24\n",
      "Fonz,  1946-11-05\n",
      "Marin,  1948-06-20\n",
      "Darryl,  1949-03-26\n",
      "Clemence,  1949-09-15\n",
      "Garrot,  1950-03-11\n",
      "Matilde,  1950-04-10\n",
      "Branden,  1951-11-27\n",
      "Perrine,  1952-11-22\n",
      "Jehu,  1953-05-08\n",
      "Christean,  1953-10-18\n",
      "Aloysius,  1955-06-26\n",
      "Matias,  1957-04-16\n",
      "Celie,  1957-06-11\n",
      "Kara,  1958-12-05\n",
      "Chryste,  1959-12-15\n",
      "Tadeas,  1961-04-12\n",
      "Kara-lynn,  1962-01-09\n",
      "Jody,  1962-10-04\n",
      "Kare,  1962-12-23\n",
      "Rivkah,  1963-05-05\n",
      "Grannie,  1966-02-02\n",
      "Kayle,  1966-06-20\n",
      "Vittorio,  1966-09-21\n",
      "Cayla,  1967-12-19\n",
      "Thomasine,  1968-08-25\n",
      "Therese,  1968-10-08\n",
      "Juliane,  1968-10-29\n",
      "Rea,  1968-11-05\n",
      "Doralin,  1971-01-30\n",
      "Johnath,  1971-06-22\n",
      "Katina,  1973-04-14\n",
      "Brittaney,  1973-05-24\n",
      "Laetitia,  1973-07-24\n",
      "Marylinda,  1974-03-01\n",
      "Piper,  1974-09-11\n",
      "Oriana,  1974-12-31\n",
      "Shaina,  1975-03-09\n",
      "Field,  1975-04-23\n",
      "Kylen,  1975-09-08\n",
      "Jeffrey,  1975-12-10\n",
      "Petey,  1977-12-13\n",
      "Verna,  1978-12-03\n",
      "Linnea,  1980-08-03\n",
      "Cyrus,  1981-07-06\n",
      "Sebastian,  1981-11-10\n",
      "Bruce,  1984-01-05\n",
      "Kiley,  1984-02-14\n",
      "Aaren,  1984-10-12\n",
      "Dion,  1984-11-15\n",
      "Koren,  1985-09-26\n",
      "Even,  1986-08-10\n",
      "Corty,  1987-02-02\n",
      "Kinsley,  1988-01-27\n",
      "Augustin,  1988-03-29\n",
      "Amerigo,  1991-06-30\n",
      "Mychal,  1991-09-12\n",
      "Chelsea,  1992-03-03\n",
      "Thomas,  1992-03-13\n",
      "Scottie,  1993-03-16\n",
      "Miranda,  1993-04-30\n",
      "Goddart,  1993-10-12\n",
      "Lisabeth,  1994-04-16\n",
      "Florella,  1994-06-21\n",
      "Ibrahim,  1995-07-31\n",
      "Jacquetta,  1995-08-11\n",
      "Florry,  1996-04-14\n",
      "Tadeo,  1996-05-26\n",
      "Butch,  1997-01-04\n",
      "Hobart,  1997-02-05\n",
      "Calv,  1997-04-21\n",
      "Annalee,  1997-07-19\n",
      "Lizette,  1997-12-19\n",
      "Obediah,  1998-03-12\n",
      "Ber,  1998-05-18\n",
      "Andie,  1998-09-14\n",
      "Merna,  1998-10-19\n",
      "Cherice,  1998-11-01\n",
      "Shay,  1999-06-17\n",
      "Mora,  1999-07-27\n"
     ]
    }
   ],
   "source": [
    "# sql query\n",
    "birthday_list = ('''SELECT first, birthdate\n",
    "                FROM customer\n",
    "                ORDER BY birthdate''')\n",
    "\n",
    "# view query result\n",
    "fmt_two = \"{0},  {1}\"\n",
    "for r in click.execute(birthday_list).fetchall():\n",
    "    birthday_list = fmt_two.format(*r)\n",
    "    # print()           ##extra space in case easier to view\n",
    "    print(birthday_list)\n"
   ]
  },
  {
   "cell_type": "markdown",
   "id": "d64e2191",
   "metadata": {},
   "source": [
    "# Let me ensure I'm not sending out multiple gift cards to the same customer. "
   ]
  },
  {
   "cell_type": "code",
   "execution_count": 12,
   "id": "e5fe2864",
   "metadata": {},
   "outputs": [
    {
     "name": "stdout",
     "output_type": "stream",
     "text": [
      "100 \n"
     ]
    }
   ],
   "source": [
    "email_repeat_query = '''SELECT DISTINCT COUNT (email) FROM customer'''\n",
    "\n",
    "CREATE_FUNCTION_JEEZ = \"{0} \"\n",
    "\n",
    "for allthe in click.execute(email_repeat_query).fetchall():\n",
    "    what = CREATE_FUNCTION_JEEZ.format(*allthe)\n",
    "    print(what)"
   ]
  },
  {
   "cell_type": "markdown",
   "id": "5faa8d3b",
   "metadata": {},
   "source": [
    "I confirmed with the email_repeat_query  that I have exactly 100 unique emails accounted for within this customer table."
   ]
  },
  {
   "cell_type": "code",
   "execution_count": 13,
   "id": "e18707da",
   "metadata": {},
   "outputs": [],
   "source": [
    "names_match_query =''' SELECT COUNT (last) last  \n",
    "        FROM customer \n",
    "        GROUP BY first \n",
    "        HAVING COUNT (last) > 1'''\n",
    "\n",
    "this = \"{0} \"\n",
    "\n",
    "for matchy in click.execute(names_match_query).fetchall():\n",
    "    repeat_names_count = this.format(*matchy)\n",
    "    print(repeat_names_count)\n",
    "\n"
   ]
  },
  {
   "cell_type": "markdown",
   "id": "faf519e2",
   "metadata": {},
   "source": [
    "If nothing prints from the repeat_names_count, then I have confirmed that at no point in my customer table does a customer's last name repeat either, so I doubt I have any duplicate results for the data in my customer table as far as contact information. "
   ]
  },
  {
   "cell_type": "markdown",
   "id": "01b1668d",
   "metadata": {},
   "source": [
    "#### I have two types of gifts available:\n",
    "\n",
    "1. All-purpose gift cards with set balances of 15.00 dollars\n",
    "2. iTunes gift cards with set balances of 15.00 dollars\n",
    "\n",
    "To help me split the population between these two options, I choose to make an assumption of which to base my condition upon.\n",
    "\n",
    "I make an assumption that older generations will enjoy general purpose giftcards more than iTunes-specific giftcards. \n"
   ]
  },
  {
   "cell_type": "code",
   "execution_count": 14,
   "id": "29f07888",
   "metadata": {},
   "outputs": [
    {
     "name": "stdout",
     "output_type": "stream",
     "text": [
      "Raymund,  1930-10-02\n",
      "Karissa,  1938-10-04\n",
      "Tersina,  1941-10-27\n",
      "Christean,  1953-10-18\n",
      "Jody,  1962-10-04\n",
      "Therese,  1968-10-08\n",
      "Juliane,  1968-10-29\n",
      "Aaren,  1984-10-12\n",
      "Goddart,  1993-10-12\n"
     ]
    }
   ],
   "source": [
    "# Pretending it's September now, I realize I need to filter by month as well. \n",
    "# I'm going to start now, looking at October. \n",
    "\n",
    "# sql query\n",
    "query_october_cards = ('''SELECT first, birthdate\n",
    "                FROM customer\n",
    "                WHERE (birthdate LIKE '%-10-%') AND (birthdate <= '1994-12-31')\n",
    "                ORDER BY birthdate''')\n",
    "\n",
    "# view query result\n",
    "for octc in click.execute(query_october_cards).fetchall():\n",
    "    october_cards = fmt_two.format(*octc)\n",
    "    print(october_cards)"
   ]
  },
  {
   "cell_type": "code",
   "execution_count": 15,
   "id": "d1602ded",
   "metadata": {
    "scrolled": true
   },
   "outputs": [
    {
     "name": "stdout",
     "output_type": "stream",
     "text": [
      "Merna,  1998-10-19\n"
     ]
    }
   ],
   "source": [
    "# Now I'm going to determine the october itunes cards to prepare: \n",
    "\n",
    "# sql query\n",
    "query_oct_itunes = ('''SELECT first, birthdate\n",
    "                FROM customer\n",
    "                WHERE (birthdate LIKE '%-10-%') AND (birthdate > '1994-12-31')\n",
    "                ORDER BY birthdate''')\n",
    "\n",
    "# view query result\n",
    "for octunes in click.execute(query_oct_itunes).fetchall():\n",
    "    october_itunes_cards = fmt_two.format(*octunes)\n",
    "    print(october_itunes_cards)\n",
    "\n"
   ]
  },
  {
   "cell_type": "markdown",
   "id": "47b781af",
   "metadata": {},
   "source": [
    "# Create an email list"
   ]
  },
  {
   "cell_type": "code",
   "execution_count": 16,
   "id": "0916fa97",
   "metadata": {},
   "outputs": [
    {
     "name": "stdout",
     "output_type": "stream",
     "text": [
      "Raymund,  rpostlethwaite2@nasa.gov\n",
      "Karissa,  kwannes22@sciencedaily.com\n",
      "Tersina,  tyoud1v@joomla.org\n",
      "Christean,  csanchez1d@g.co\n",
      "Jody,  jwillatts0@wordpress.com\n",
      "Therese,  tchristmas4@1und1.de\n",
      "Juliane,  jbirtle25@cnn.com\n",
      "Aaren,  akemmr@patch.com\n",
      "Goddart,  grootc@columbia.edu\n",
      "Merna,  mshakesby1s@flavors.me\n"
     ]
    }
   ],
   "source": [
    "# sql query\n",
    "query_oct_emails = ('''SELECT first, email\n",
    "                FROM customer\n",
    "                WHERE (birthdate LIKE '%-10-%')\n",
    "                ORDER BY birthdate''')\n",
    "\n",
    "# view query result\n",
    "for againagain in click.execute(query_oct_emails).fetchall():\n",
    "    october_emails = fmt_two.format(*againagain)\n",
    "    print(october_emails)"
   ]
  },
  {
   "cell_type": "markdown",
   "id": "827d40f8",
   "metadata": {},
   "source": [
    "\n",
    "\n"
   ]
  },
  {
   "cell_type": "code",
   "execution_count": 17,
   "id": "fc374beb",
   "metadata": {},
   "outputs": [],
   "source": [
    "#conn.close()"
   ]
  },
  {
   "cell_type": "markdown",
   "id": "b176d993",
   "metadata": {},
   "source": [
    "### Now I want to merge and join tables around to get some deeper insight into the data. Maybe find a way to export a document here -- maybe hold query files imported into notebook?\n",
    "\n",
    "## do pandas explorations /// make in-notebook graphs using matplotlib highlighting sales / questions\n",
    "\n",
    "## get familiar with tableau / geographic display? Time of year graphs?"
   ]
  },
  {
   "cell_type": "code",
   "execution_count": null,
   "id": "d4b70f4b",
   "metadata": {},
   "outputs": [],
   "source": []
  }
 ],
 "metadata": {
  "kernelspec": {
   "display_name": "Python 3 (ipykernel)",
   "language": "python",
   "name": "python3"
  },
  "language_info": {
   "codemirror_mode": {
    "name": "ipython",
    "version": 3
   },
   "file_extension": ".py",
   "mimetype": "text/x-python",
   "name": "python",
   "nbconvert_exporter": "python",
   "pygments_lexer": "ipython3",
   "version": "3.10.12"
  }
 },
 "nbformat": 4,
 "nbformat_minor": 5
}
